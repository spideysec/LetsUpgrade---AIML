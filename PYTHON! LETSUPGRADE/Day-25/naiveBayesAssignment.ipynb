{
 "cells": [
  {
   "cell_type": "markdown",
   "metadata": {},
   "source": [
    "# Importing Packages"
   ]
  },
  {
   "cell_type": "code",
   "execution_count": 36,
   "metadata": {},
   "outputs": [],
   "source": [
    "import pandas as pd \n",
    "from sklearn import preprocessing\n",
    "from sklearn.model_selection import train_test_split\n",
    "from sklearn.naive_bayes import GaussianNB\n",
    "from sklearn.metrics import accuracy_score\n",
    "from sklearn.metrics import confusion_matrix\n",
    "from sklearn.naive_bayes import *"
   ]
  },
  {
   "cell_type": "markdown",
   "metadata": {},
   "source": [
    "# Load the data"
   ]
  },
  {
   "cell_type": "code",
   "execution_count": 38,
   "metadata": {},
   "outputs": [],
   "source": [
    "data=pd.read_csv('train.csv')"
   ]
  },
  {
   "cell_type": "markdown",
   "metadata": {},
   "source": [
    "# Converting Values"
   ]
  },
  {
   "cell_type": "code",
   "execution_count": 26,
   "metadata": {},
   "outputs": [],
   "source": [
    "le=preprocessing.LabelEncoder()"
   ]
  },
  {
   "cell_type": "code",
   "execution_count": 29,
   "metadata": {},
   "outputs": [
    {
     "data": {
      "text/plain": [
       "LabelEncoder()"
      ]
     },
     "execution_count": 29,
     "metadata": {},
     "output_type": "execute_result"
    }
   ],
   "source": [
    "le.fit(data['Sex'])"
   ]
  },
  {
   "cell_type": "code",
   "execution_count": 39,
   "metadata": {},
   "outputs": [
    {
     "name": "stdout",
     "output_type": "stream",
     "text": [
      "['female' 'male']\n"
     ]
    }
   ],
   "source": [
    "print(le.classes_)"
   ]
  },
  {
   "cell_type": "code",
   "execution_count": 40,
   "metadata": {},
   "outputs": [],
   "source": [
    "data[\"Sex\"]=le.transform(data[\"Sex\"])"
   ]
  },
  {
   "cell_type": "code",
   "execution_count": 41,
   "metadata": {},
   "outputs": [],
   "source": [
    "le.fit(data[\"Embarked\"])\n",
    "data[\"Embarked\"]=le.transform(data[\"Embarked\"])"
   ]
  },
  {
   "cell_type": "markdown",
   "metadata": {},
   "source": [
    "# Using train test"
   ]
  },
  {
   "cell_type": "code",
   "execution_count": 42,
   "metadata": {},
   "outputs": [],
   "source": [
    "y=data[\"Survived\"]\n",
    "X=data.drop([\"Survived\",\"PassengerId\",\"Ticket\",\"Name\",\"Cabin\"],axis=1)"
   ]
  },
  {
   "cell_type": "code",
   "execution_count": 43,
   "metadata": {},
   "outputs": [
    {
     "data": {
      "text/plain": [
       "889"
      ]
     },
     "execution_count": 43,
     "metadata": {},
     "output_type": "execute_result"
    }
   ],
   "source": [
    "y.count()"
   ]
  },
  {
   "cell_type": "code",
   "execution_count": 44,
   "metadata": {},
   "outputs": [],
   "source": [
    "X_train,X_test,y_train,y_test=train_test_split(X,y,test_size=0.3,random_state=0)"
   ]
  },
  {
   "cell_type": "code",
   "execution_count": 45,
   "metadata": {},
   "outputs": [],
   "source": [
    "clf=GaussianNB()"
   ]
  },
  {
   "cell_type": "code",
   "execution_count": 46,
   "metadata": {},
   "outputs": [],
   "source": [
    "y_pred=clf.fit(X_train,y_train).predict(X_test)"
   ]
  },
  {
   "cell_type": "code",
   "execution_count": 47,
   "metadata": {},
   "outputs": [
    {
     "name": "stdout",
     "output_type": "stream",
     "text": [
      "The Accuracy score is :- 75.2809\n"
     ]
    }
   ],
   "source": [
    "print(\"The Accuracy score is :-\",round(accuracy_score(y_test,y_pred,normalize=True)*100,4))"
   ]
  },
  {
   "cell_type": "code",
   "execution_count": 48,
   "metadata": {},
   "outputs": [
    {
     "data": {
      "text/plain": [
       "array([[121,  36],\n",
       "       [ 30,  80]], dtype=int64)"
      ]
     },
     "execution_count": 48,
     "metadata": {},
     "output_type": "execute_result"
    }
   ],
   "source": [
    "x=confusion_matrix(y_test,y_pred)\n",
    "x"
   ]
  },
  {
   "cell_type": "code",
   "execution_count": 49,
   "metadata": {},
   "outputs": [
    {
     "name": "stdout",
     "output_type": "stream",
     "text": [
      "Accuracy score with confusion matrix is  75.2809\n"
     ]
    }
   ],
   "source": [
    "xc=x[0,0]+x[1,1]\n",
    "xnc=x[0,1]+x[1,0]\n",
    "print(\"Accuracy score with confusion matrix is \",round(xc/(xc+xnc)*100,4))"
   ]
  },
  {
   "cell_type": "code",
   "execution_count": 50,
   "metadata": {},
   "outputs": [
    {
     "data": {
      "text/plain": [
       "Index(['PassengerId', 'Survived', 'Pclass', 'Name', 'Sex', 'Age', 'SibSp',\n",
       "       'Parch', 'Ticket', 'Fare', 'Cabin', 'Embarked'],\n",
       "      dtype='object')"
      ]
     },
     "execution_count": 50,
     "metadata": {},
     "output_type": "execute_result"
    }
   ],
   "source": [
    "data.columns"
   ]
  },
  {
   "cell_type": "markdown",
   "metadata": {},
   "source": [
    "# Using Function for Showing Multiple Comple Matrix Accuracy"
   ]
  },
  {
   "cell_type": "code",
   "execution_count": 60,
   "metadata": {},
   "outputs": [],
   "source": [
    "def confusedMatrix(feature):\n",
    "    print('\\n')\n",
    "    print(\"|-------------------------------------------------------------------------------------------|\")\n",
    "    print('\\n')\n",
    "    y=data[feature]\n",
    "    X=data.drop([feature,\"PassengerId\",\"Ticket\",\"Name\",\"Cabin\"],axis=1)\n",
    "    X_train,X_test,y_train,y_test=train_test_split(X,y,test_size=0.3,random_state=0)\n",
    "    clf=GaussianNB()\n",
    "    y_pred=clf.fit(X_train,y_train).predict(X_test)\n",
    "    print(\"Taking \",feature,\"as DEPEDENT VARIABlE as other as INDEPEDENT VARIABLE \\n\")\n",
    "    print(\"\\t The Accuracy score is : \\n\",\"\\t\",round(accuracy_score(y_test,y_pred,normalize=True)*100,4))\n",
    "    x=confusion_matrix(y_test,y_pred)\n",
    "    x\n",
    "    xc=x[0,0]+x[1,1]\n",
    "    xnc=x[0,1]+x[1,0]\n",
    "    print(\"\\t Accuracy score with confusion matrix is : \\n\",\"\\t\",round(xc/(xc+xnc)*100,4))\n",
    "    print('\\n')\n",
    "    print(\"|-------------------------------------------------------------------------------------------|\")"
   ]
  },
  {
   "cell_type": "code",
   "execution_count": 61,
   "metadata": {},
   "outputs": [],
   "source": [
    "lst=['Survived','Pclass',  'Sex', 'SibSp','Parch', 'Embarked']"
   ]
  },
  {
   "cell_type": "code",
   "execution_count": 62,
   "metadata": {},
   "outputs": [
    {
     "name": "stdout",
     "output_type": "stream",
     "text": [
      "\n",
      "\n",
      "|-------------------------------------------------------------------------------------------|\n",
      "\n",
      "\n",
      "Taking  Survived as DEPEDENT VARIABlE as other as INDEPEDENT VARIABLE \n",
      "\n",
      "\t The Accuracy score is : \n",
      " \t 75.2809\n",
      "\t Accuracy score with confusion matrix is : \n",
      " \t 75.2809\n",
      "\n",
      "\n",
      "|-------------------------------------------------------------------------------------------|\n",
      "\n",
      "\n",
      "|-------------------------------------------------------------------------------------------|\n",
      "\n",
      "\n",
      "Taking  Pclass as DEPEDENT VARIABlE as other as INDEPEDENT VARIABLE \n",
      "\n",
      "\t The Accuracy score is : \n",
      " \t 69.6629\n",
      "\t Accuracy score with confusion matrix is : \n",
      " \t 81.0526\n",
      "\n",
      "\n",
      "|-------------------------------------------------------------------------------------------|\n",
      "\n",
      "\n",
      "|-------------------------------------------------------------------------------------------|\n",
      "\n",
      "\n",
      "Taking  Sex as DEPEDENT VARIABlE as other as INDEPEDENT VARIABLE \n",
      "\n",
      "\t The Accuracy score is : \n",
      " \t 71.5356\n",
      "\t Accuracy score with confusion matrix is : \n",
      " \t 71.5356\n",
      "\n",
      "\n",
      "|-------------------------------------------------------------------------------------------|\n",
      "\n",
      "\n",
      "|-------------------------------------------------------------------------------------------|\n",
      "\n",
      "\n",
      "Taking  SibSp as DEPEDENT VARIABlE as other as INDEPEDENT VARIABLE \n",
      "\n",
      "\t The Accuracy score is : \n",
      " \t 55.4307\n",
      "\t Accuracy score with confusion matrix is : \n",
      " \t 78.9773\n",
      "\n",
      "\n",
      "|-------------------------------------------------------------------------------------------|\n",
      "\n",
      "\n",
      "|-------------------------------------------------------------------------------------------|\n",
      "\n",
      "\n",
      "Taking  Parch as DEPEDENT VARIABlE as other as INDEPEDENT VARIABLE \n",
      "\n",
      "\t The Accuracy score is : \n",
      " \t 58.0524\n",
      "\t Accuracy score with confusion matrix is : \n",
      " \t 85.0575\n",
      "\n",
      "\n",
      "|-------------------------------------------------------------------------------------------|\n",
      "\n",
      "\n",
      "|-------------------------------------------------------------------------------------------|\n",
      "\n",
      "\n",
      "Taking  Embarked as DEPEDENT VARIABlE as other as INDEPEDENT VARIABLE \n",
      "\n",
      "\t The Accuracy score is : \n",
      " \t 69.2884\n",
      "\t Accuracy score with confusion matrix is : \n",
      " \t 91.6667\n",
      "\n",
      "\n",
      "|-------------------------------------------------------------------------------------------|\n"
     ]
    }
   ],
   "source": [
    "for x in lst :\n",
    "    feature=x\n",
    "    confusedMatrix(feature)"
   ]
  },
  {
   "cell_type": "code",
   "execution_count": null,
   "metadata": {},
   "outputs": [],
   "source": []
  }
 ],
 "metadata": {
  "kernelspec": {
   "display_name": "Python 3",
   "language": "python",
   "name": "python3"
  },
  "language_info": {
   "codemirror_mode": {
    "name": "ipython",
    "version": 3
   },
   "file_extension": ".py",
   "mimetype": "text/x-python",
   "name": "python",
   "nbconvert_exporter": "python",
   "pygments_lexer": "ipython3",
   "version": "3.7.6"
  }
 },
 "nbformat": 4,
 "nbformat_minor": 4
}
