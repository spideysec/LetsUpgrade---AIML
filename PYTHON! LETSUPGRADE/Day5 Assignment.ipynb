{
  "nbformat": 4,
  "nbformat_minor": 0,
  "metadata": {
    "kernelspec": {
      "display_name": "Python 3",
      "language": "python",
      "name": "python3"
    },
    "language_info": {
      "codemirror_mode": {
        "name": "ipython",
        "version": 3
      },
      "file_extension": ".py",
      "mimetype": "text/x-python",
      "name": "python",
      "nbconvert_exporter": "python",
      "pygments_lexer": "ipython3",
      "version": "3.7.6"
    },
    "colab": {
      "name": "Day 5.ipynb",
      "provenance": [],
      "collapsed_sections": []
    }
  },
  "cells": [
    {
      "cell_type": "markdown",
      "metadata": {
        "id": "6jRYb_YRPHkP",
        "colab_type": "text"
      },
      "source": [
        "# Q1"
      ]
    },
    {
      "cell_type": "code",
      "metadata": {
        "id": "fJ8ddrzYPHkX",
        "colab_type": "code",
        "colab": {
          "base_uri": "https://localhost:8080/",
          "height": 384
        },
        "outputId": "41488fef-e1ed-4a12-e1d7-991b72107f19"
      },
      "source": [
        "s=0\n",
        "p=0\n",
        "while s !=20:\n",
        "    if p > 1:\n",
        "        for i in range(2,p):\n",
        "            if p%i== 0:\n",
        "                break\n",
        "            \n",
        "        else:\n",
        "            if p%2 != 0:\n",
        "              print(p)\n",
        "              s=s+1\n",
        "    p=p+1"
      ],
      "execution_count": 32,
      "outputs": [
        {
          "output_type": "stream",
          "text": [
            "3\n",
            "5\n",
            "7\n",
            "11\n",
            "13\n",
            "17\n",
            "19\n",
            "23\n",
            "29\n",
            "31\n",
            "37\n",
            "41\n",
            "43\n",
            "47\n",
            "53\n",
            "59\n",
            "61\n",
            "67\n",
            "71\n",
            "73\n"
          ],
          "name": "stdout"
        }
      ]
    },
    {
      "cell_type": "markdown",
      "metadata": {
        "id": "oI5hSkrYPHlA",
        "colab_type": "text"
      },
      "source": [
        "# Q2"
      ]
    },
    {
      "cell_type": "code",
      "metadata": {
        "id": "4PU2KbsMPHlN",
        "colab_type": "code",
        "colab": {
          "base_uri": "https://localhost:8080/",
          "height": 36
        },
        "outputId": "70345652-e988-427b-c092-b27ee31ea5c9"
      },
      "source": [
        "name='My Name is Sahil Phalle'\n",
        "name.capitalize()"
      ],
      "execution_count": 5,
      "outputs": [
        {
          "output_type": "execute_result",
          "data": {
            "application/vnd.google.colaboratory.intrinsic": {
              "type": "string"
            },
            "text/plain": [
              "'My name is sahil phalle'"
            ]
          },
          "metadata": {
            "tags": []
          },
          "execution_count": 5
        }
      ]
    },
    {
      "cell_type": "code",
      "metadata": {
        "id": "JE8DFuIkPHlj",
        "colab_type": "code",
        "colab": {
          "base_uri": "https://localhost:8080/",
          "height": 36
        },
        "outputId": "5d1cf010-9455-45e2-a8f7-c45be4005bcd"
      },
      "source": [
        "name.casefold()"
      ],
      "execution_count": 6,
      "outputs": [
        {
          "output_type": "execute_result",
          "data": {
            "application/vnd.google.colaboratory.intrinsic": {
              "type": "string"
            },
            "text/plain": [
              "'my name is sahil phalle'"
            ]
          },
          "metadata": {
            "tags": []
          },
          "execution_count": 6
        }
      ]
    },
    {
      "cell_type": "code",
      "metadata": {
        "id": "rKyeTh5sPHl3",
        "colab_type": "code",
        "colab": {
          "base_uri": "https://localhost:8080/",
          "height": 36
        },
        "outputId": "26ce987c-ab8b-457f-d098-0eda07195d04"
      },
      "source": [
        "name.center(77)"
      ],
      "execution_count": 7,
      "outputs": [
        {
          "output_type": "execute_result",
          "data": {
            "application/vnd.google.colaboratory.intrinsic": {
              "type": "string"
            },
            "text/plain": [
              "'                           My Name is Sahil Phalle                           '"
            ]
          },
          "metadata": {
            "tags": []
          },
          "execution_count": 7
        }
      ]
    },
    {
      "cell_type": "code",
      "metadata": {
        "id": "ZXIAm2YnPHmL",
        "colab_type": "code",
        "colab": {
          "base_uri": "https://localhost:8080/",
          "height": 35
        },
        "outputId": "f71de0b1-3213-4da0-9daf-6209f27da294"
      },
      "source": [
        "name.count('p')"
      ],
      "execution_count": 8,
      "outputs": [
        {
          "output_type": "execute_result",
          "data": {
            "text/plain": [
              "0"
            ]
          },
          "metadata": {
            "tags": []
          },
          "execution_count": 8
        }
      ]
    },
    {
      "cell_type": "code",
      "metadata": {
        "id": "BrrndkjZPHmj",
        "colab_type": "code",
        "colab": {
          "base_uri": "https://localhost:8080/",
          "height": 35
        },
        "outputId": "ed6cbaf2-2bec-4d27-c8fb-bc02d94c6094"
      },
      "source": [
        "name.encode()"
      ],
      "execution_count": 9,
      "outputs": [
        {
          "output_type": "execute_result",
          "data": {
            "text/plain": [
              "b'My Name is Sahil Phalle'"
            ]
          },
          "metadata": {
            "tags": []
          },
          "execution_count": 9
        }
      ]
    },
    {
      "cell_type": "code",
      "metadata": {
        "id": "BtuLkLNlPHm-",
        "colab_type": "code",
        "colab": {
          "base_uri": "https://localhost:8080/",
          "height": 36
        },
        "outputId": "177bdf4d-7a4f-49cc-8b10-1b0814ccb9a7"
      },
      "source": [
        "name.expandtabs()"
      ],
      "execution_count": 10,
      "outputs": [
        {
          "output_type": "execute_result",
          "data": {
            "application/vnd.google.colaboratory.intrinsic": {
              "type": "string"
            },
            "text/plain": [
              "'My Name is Sahil Phalle'"
            ]
          },
          "metadata": {
            "tags": []
          },
          "execution_count": 10
        }
      ]
    },
    {
      "cell_type": "code",
      "metadata": {
        "id": "RlBzLv5vPHnP",
        "colab_type": "code",
        "colab": {
          "base_uri": "https://localhost:8080/",
          "height": 35
        },
        "outputId": "8ff969a9-2baf-4341-de0f-905e8c1bf287"
      },
      "source": [
        "name.find('s')"
      ],
      "execution_count": 11,
      "outputs": [
        {
          "output_type": "execute_result",
          "data": {
            "text/plain": [
              "9"
            ]
          },
          "metadata": {
            "tags": []
          },
          "execution_count": 11
        }
      ]
    },
    {
      "cell_type": "code",
      "metadata": {
        "id": "Kuket8jgPHng",
        "colab_type": "code",
        "colab": {
          "base_uri": "https://localhost:8080/",
          "height": 35
        },
        "outputId": "af92086e-4466-4166-b6ba-65620ed9f5c7"
      },
      "source": [
        "name.index(\"h\")"
      ],
      "execution_count": 12,
      "outputs": [
        {
          "output_type": "execute_result",
          "data": {
            "text/plain": [
              "13"
            ]
          },
          "metadata": {
            "tags": []
          },
          "execution_count": 12
        }
      ]
    },
    {
      "cell_type": "code",
      "metadata": {
        "id": "2hAgtxAcPHnz",
        "colab_type": "code",
        "colab": {
          "base_uri": "https://localhost:8080/",
          "height": 35
        },
        "outputId": "78a5d6a7-f825-4410-91c8-1214519acc4a"
      },
      "source": [
        "name.isalnum()"
      ],
      "execution_count": 13,
      "outputs": [
        {
          "output_type": "execute_result",
          "data": {
            "text/plain": [
              "False"
            ]
          },
          "metadata": {
            "tags": []
          },
          "execution_count": 13
        }
      ]
    },
    {
      "cell_type": "code",
      "metadata": {
        "id": "spbCEHPRPHoE",
        "colab_type": "code",
        "colab": {
          "base_uri": "https://localhost:8080/",
          "height": 35
        },
        "outputId": "1c405cae-9b5f-4806-9034-6c3652fcde87"
      },
      "source": [
        "name.isalpha()"
      ],
      "execution_count": 14,
      "outputs": [
        {
          "output_type": "execute_result",
          "data": {
            "text/plain": [
              "False"
            ]
          },
          "metadata": {
            "tags": []
          },
          "execution_count": 14
        }
      ]
    },
    {
      "cell_type": "code",
      "metadata": {
        "id": "xvS403hgPHoW",
        "colab_type": "code",
        "colab": {
          "base_uri": "https://localhost:8080/",
          "height": 35
        },
        "outputId": "6b7749af-f1ce-43b1-edb9-f7bc97c08bc9"
      },
      "source": [
        "name.isdigit()"
      ],
      "execution_count": 15,
      "outputs": [
        {
          "output_type": "execute_result",
          "data": {
            "text/plain": [
              "False"
            ]
          },
          "metadata": {
            "tags": []
          },
          "execution_count": 15
        }
      ]
    },
    {
      "cell_type": "code",
      "metadata": {
        "id": "eMu0USAEPHom",
        "colab_type": "code",
        "colab": {}
      },
      "source": [
        "name.isascii()"
      ],
      "execution_count": null,
      "outputs": []
    },
    {
      "cell_type": "code",
      "metadata": {
        "id": "0sWJpEbpPHo3",
        "colab_type": "code",
        "colab": {
          "base_uri": "https://localhost:8080/",
          "height": 35
        },
        "outputId": "916a20d2-98e4-4aa0-b585-59e4966af622"
      },
      "source": [
        "name.isspace()"
      ],
      "execution_count": 18,
      "outputs": [
        {
          "output_type": "execute_result",
          "data": {
            "text/plain": [
              "False"
            ]
          },
          "metadata": {
            "tags": []
          },
          "execution_count": 18
        }
      ]
    },
    {
      "cell_type": "code",
      "metadata": {
        "id": "d4rRpsHYPHpK",
        "colab_type": "code",
        "colab": {
          "base_uri": "https://localhost:8080/",
          "height": 36
        },
        "outputId": "3dca6ee6-72c9-40b3-d28f-d86e0d166af3"
      },
      "source": [
        "name.lower()"
      ],
      "execution_count": 17,
      "outputs": [
        {
          "output_type": "execute_result",
          "data": {
            "application/vnd.google.colaboratory.intrinsic": {
              "type": "string"
            },
            "text/plain": [
              "'my name is sahil phalle'"
            ]
          },
          "metadata": {
            "tags": []
          },
          "execution_count": 17
        }
      ]
    },
    {
      "cell_type": "code",
      "metadata": {
        "id": "cwXks5B-PHpe",
        "colab_type": "code",
        "colab": {
          "base_uri": "https://localhost:8080/",
          "height": 35
        },
        "outputId": "a99aa9a9-f9ca-441e-c11a-1b20672858bf"
      },
      "source": [
        "name.partition('is')"
      ],
      "execution_count": 16,
      "outputs": [
        {
          "output_type": "execute_result",
          "data": {
            "text/plain": [
              "('My Name ', 'is', ' Sahil Phalle')"
            ]
          },
          "metadata": {
            "tags": []
          },
          "execution_count": 16
        }
      ]
    },
    {
      "cell_type": "markdown",
      "metadata": {
        "id": "G5fGyMw_PHqG",
        "colab_type": "text"
      },
      "source": [
        ""
      ]
    },
    {
      "cell_type": "markdown",
      "metadata": {
        "id": "p2YRR9GUPHqJ",
        "colab_type": "text"
      },
      "source": [
        "# Q3"
      ]
    },
    {
      "cell_type": "code",
      "metadata": {
        "scrolled": true,
        "id": "SQLZJfhcPHqM",
        "colab_type": "code",
        "colab": {
          "base_uri": "https://localhost:8080/",
          "height": 54
        },
        "outputId": "8d761422-18c8-48ae-c90e-236130f423f5"
      },
      "source": [
        "string1=input(\"Enter the word:\")\n",
        "reve_string=string1[::-1]\n",
        "if reve_string==string1:\n",
        "    print(\"Palindrome\")\n",
        "else:\n",
        "    string2=input(\"Enter the word:\")\n",
        "    str1=sorted(string1)\n",
        "    str2=sorted(string2)\n",
        "    if str1==str2:\n",
        "        print(\"Anagram\")\n",
        "    else:\n",
        "        print(\"None\")"
      ],
      "execution_count": 21,
      "outputs": [
        {
          "output_type": "stream",
          "text": [
            "Enter the word:LOL\n",
            "Palindrome\n"
          ],
          "name": "stdout"
        }
      ]
    },
    {
      "cell_type": "markdown",
      "metadata": {
        "id": "vEeb1qw4PHqZ",
        "colab_type": "text"
      },
      "source": [
        "# Q4"
      ]
    },
    {
      "cell_type": "code",
      "metadata": {
        "id": "HOJSAqSHPHqc",
        "colab_type": "code",
        "colab": {
          "base_uri": "https://localhost:8080/",
          "height": 72
        },
        "outputId": "7981ee61-fb29-4071-d43a-9427776be65e"
      },
      "source": [
        "def replace_char(y):\n",
        "    invalid_list = ['!','#','@','$','^','&','*','%',',','.','+','-','/']\n",
        "    for i in invalid_list :\n",
        "        y= y.replace(i,'')\n",
        "        y=y.lower()\n",
        "    print(\"After removing all special Characters from string\")\n",
        "    print(\"Resultant string is: \",y)\n",
        "string_5 = 'Dr.Darshan Ingle @AI-ML Trainer'\n",
        "print(\"String is :\",string_5)\n",
        "replace_char(string_5)"
      ],
      "execution_count": 20,
      "outputs": [
        {
          "output_type": "stream",
          "text": [
            "String is : Dr.Darshan Ingle @AI-ML Trainer\n",
            "After removing all special Characters from string\n",
            "Resultant string is:  drdarshan ingle aiml trainer\n"
          ],
          "name": "stdout"
        }
      ]
    }
  ]
}