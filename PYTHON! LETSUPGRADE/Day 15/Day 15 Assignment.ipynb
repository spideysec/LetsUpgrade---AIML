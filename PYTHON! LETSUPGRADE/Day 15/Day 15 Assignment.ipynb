{
 "cells": [
  {
   "cell_type": "markdown",
   "metadata": {},
   "source": [
    "# 1. Create a 3x3x3 array with random values "
   ]
  },
  {
   "cell_type": "code",
   "execution_count": 13,
   "metadata": {},
   "outputs": [
    {
     "data": {
      "text/plain": [
       "array([[[442, 525, 412],\n",
       "        [374, 595, 413],\n",
       "        [287,  54, 277]],\n",
       "\n",
       "       [[461, 522,  85],\n",
       "        [174,   7, 410],\n",
       "        [475, 491, 473]],\n",
       "\n",
       "       [[715,  88, 663],\n",
       "        [ 63, 549, 496],\n",
       "        [590, 601, 743]]])"
      ]
     },
     "execution_count": 13,
     "metadata": {},
     "output_type": "execute_result"
    }
   ],
   "source": [
    "import numpy as np\n",
    "ranArr=np.random.randint(0,777,size=(3,3,3))\n",
    "ranArr"
   ]
  },
  {
   "cell_type": "markdown",
   "metadata": {},
   "source": [
    "# 2.Create a 5x5 matrix with values 1,2,3,4 just below the diagonal"
   ]
  },
  {
   "cell_type": "code",
   "execution_count": 14,
   "metadata": {},
   "outputs": [
    {
     "data": {
      "text/plain": [
       "array([[0, 0, 0, 0, 0],\n",
       "       [1, 0, 0, 0, 0],\n",
       "       [0, 2, 0, 0, 0],\n",
       "       [0, 0, 3, 0, 0],\n",
       "       [0, 0, 0, 4, 0]])"
      ]
     },
     "execution_count": 14,
     "metadata": {},
     "output_type": "execute_result"
    }
   ],
   "source": [
    "a=np.diag([1,2,3,4],-1)\n",
    "a"
   ]
  },
  {
   "cell_type": "markdown",
   "metadata": {},
   "source": [
    "# 3.Create a 8x8 matrix and fill it with a checkerboard pattern"
   ]
  },
  {
   "cell_type": "code",
   "execution_count": 16,
   "metadata": {},
   "outputs": [
    {
     "name": "stdout",
     "output_type": "stream",
     "text": [
      "Checkerboard pattern :- \n",
      "[[0 1 0 1 0 1 0 1]\n",
      " [1 0 1 0 1 0 1 0]\n",
      " [0 1 0 1 0 1 0 1]\n",
      " [1 0 1 0 1 0 1 0]\n",
      " [0 1 0 1 0 1 0 1]\n",
      " [1 0 1 0 1 0 1 0]\n",
      " [0 1 0 1 0 1 0 1]\n",
      " [1 0 1 0 1 0 1 0]]\n"
     ]
    }
   ],
   "source": [
    "print(\"Checkerboard pattern :- \")\n",
    "x = np.zeros((8,8),dtype=int)\n",
    "x[1::2,::2] = 1\n",
    "x[::2,1::2] = 1\n",
    "print(x)"
   ]
  },
  {
   "cell_type": "markdown",
   "metadata": {},
   "source": [
    "# 4. Normalize a 5x5 random matrix"
   ]
  },
  {
   "cell_type": "code",
   "execution_count": 22,
   "metadata": {},
   "outputs": [
    {
     "name": "stdout",
     "output_type": "stream",
     "text": [
      "Before Normalize :-\n",
      "[[0.12376088 0.63602643 0.1926652  0.08146364 0.13213062]\n",
      " [0.00847935 0.89583864 0.12133098 0.72635072 0.00724532]\n",
      " [0.75219697 0.17977188 0.15005038 0.13518113 0.68523092]\n",
      " [0.72320941 0.63602667 0.06054487 0.75954365 0.67634905]\n",
      " [0.00602077 0.29399048 0.68539886 0.33794313 0.93895607]] \n",
      "\n",
      "After Normalize :-\n",
      "[[0.12620393 0.67529405 0.20006149 0.08086613 0.13517534]\n",
      " [0.00263531 0.95378304 0.12359936 0.77211136 0.00131257]\n",
      " [0.79981559 0.18624133 0.15438327 0.13844514 0.72803564]\n",
      " [0.76874424 0.67529431 0.0584436  0.80769039 0.71851529]\n",
      " [0.         0.30867061 0.72821565 0.35578283 1.        ]]\n"
     ]
    }
   ],
   "source": [
    "b= np.random.random((5,5))\n",
    "print(\"Before Normalize :-\")\n",
    "print(b,\"\\n\") \n",
    "bmax, bmin = b.max(), b.min()\n",
    "b = (b - bmin)/(bmax - bmin)\n",
    "print(\"After Normalize :-\")\n",
    "print(b)"
   ]
  },
  {
   "cell_type": "markdown",
   "metadata": {},
   "source": [
    "# 5.  How to find common values between two arrays?"
   ]
  },
  {
   "cell_type": "code",
   "execution_count": 25,
   "metadata": {},
   "outputs": [
    {
     "name": "stdout",
     "output_type": "stream",
     "text": [
      "[2 3 1 8 9] \n",
      " [7 1 2 9 5]\n",
      "Common Values are :- [1 2 9]\n"
     ]
    }
   ],
   "source": [
    "arr1=np.array([2,3,1,8,9])\n",
    "arr2=np.array([7,1,2,9,5])\n",
    "print( arr1,\"\\n\",arr2)\n",
    "print('Common Values are :-',np.intersect1d(arr1,arr2))"
   ]
  },
  {
   "cell_type": "markdown",
   "metadata": {},
   "source": [
    "# 6.How to get the dates of yesterday, today and tomorrow?"
   ]
  },
  {
   "cell_type": "code",
   "execution_count": 31,
   "metadata": {},
   "outputs": [
    {
     "name": "stdout",
     "output_type": "stream",
     "text": [
      "Yesterday :- 2020-07-27\n",
      "Today     :- 2020-07-28\n",
      "Tomorrow  :- 2020-07-29\n"
     ]
    }
   ],
   "source": [
    "yesD = np.datetime64('today','D') - np.timedelta64(1,'D')\n",
    "print(\"Yesterday :-\", yesD)\n",
    "today = np.datetime64('today','D')\n",
    "print(\"Today     :-\", today)\n",
    "torow=np.datetime64('today','D')+np.timedelta64(1,'D')\n",
    "print(\"Tomorrow  :-\",torow)"
   ]
  },
  {
   "cell_type": "markdown",
   "metadata": {},
   "source": [
    "# 7. Consider two random array A and B, check if they are equal"
   ]
  },
  {
   "cell_type": "code",
   "execution_count": 41,
   "metadata": {},
   "outputs": [
    {
     "name": "stdout",
     "output_type": "stream",
     "text": [
      "First array:-\n",
      "[5 8 3 1 1 1 6]\n",
      "Second array:-\n",
      "[0 5 4 2 7 8 6] \n",
      "\n",
      "Test above two arrays are equal or not!\n",
      "False\n"
     ]
    }
   ],
   "source": [
    "a = np.random.randint(0,9,7)\n",
    "print(\"First array:-\")\n",
    "print(a)\n",
    "b = np.random.randint(0,9,7)\n",
    "print(\"Second array:-\")\n",
    "print(b,\"\\n\")\n",
    "print(\"Test above two arrays are equal or not!\")\n",
    "array_equal = np.allclose(a,b)\n",
    "print(array_equal)"
   ]
  },
  {
   "cell_type": "markdown",
   "metadata": {},
   "source": [
    "# 8.Create random vector of size 10 and replace the maximum value by 0 "
   ]
  },
  {
   "cell_type": "code",
   "execution_count": 40,
   "metadata": {},
   "outputs": [
    {
     "name": "stdout",
     "output_type": "stream",
     "text": [
      "Main Array:-\n",
      "[0.81368693 0.30476582 0.52618456 0.83821365 0.40360691 0.07128926\n",
      " 0.14378751 0.57338773 0.2405014  0.98652346] \n",
      "\n",
      "Maximum value replaced by 0:-\n",
      "[0.81368693 0.30476582 0.52618456 0.83821365 0.40360691 0.07128926\n",
      " 0.14378751 0.57338773 0.2405014  0.        ]\n"
     ]
    }
   ],
   "source": [
    "x = np.random.random(10)\n",
    "print(\"Main Array:-\")\n",
    "print(x,\"\\n\")\n",
    "x[x.argmax()] = 0\n",
    "print(\"Maximum value replaced by 0:-\")\n",
    "print(x)\n"
   ]
  },
  {
   "cell_type": "markdown",
   "metadata": {},
   "source": [
    "# 9. How to print all the values of an array?"
   ]
  },
  {
   "cell_type": "code",
   "execution_count": 42,
   "metadata": {},
   "outputs": [
    {
     "name": "stdout",
     "output_type": "stream",
     "text": [
      "[[1. 1. 1. 1. 1. 1. 1. 1. 1.]\n",
      " [1. 1. 1. 1. 1. 1. 1. 1. 1.]\n",
      " [1. 1. 1. 1. 1. 1. 1. 1. 1.]\n",
      " [1. 1. 1. 1. 1. 1. 1. 1. 1.]\n",
      " [1. 1. 1. 1. 1. 1. 1. 1. 1.]\n",
      " [1. 1. 1. 1. 1. 1. 1. 1. 1.]\n",
      " [1. 1. 1. 1. 1. 1. 1. 1. 1.]]\n"
     ]
    }
   ],
   "source": [
    "x = np.ones((7,9))\n",
    "print(x)"
   ]
  },
  {
   "cell_type": "markdown",
   "metadata": {},
   "source": [
    "# 10.Subtract the mean of each row of a matrix"
   ]
  },
  {
   "cell_type": "code",
   "execution_count": 44,
   "metadata": {},
   "outputs": [
    {
     "name": "stdout",
     "output_type": "stream",
     "text": [
      "Main matrix:\n",
      "\n",
      "[[0.20353115 0.56869574 0.45078392]\n",
      " [0.45660182 0.68968545 0.90271295]]\n",
      "\n",
      "Subtract the mean of each row of the said matrix:\n",
      "\n",
      "[[-0.20413912  0.16102547  0.04311365]\n",
      " [-0.22639826  0.00668538  0.21971288]]\n"
     ]
    }
   ],
   "source": [
    "\n",
    "print(\"Main matrix:\\n\")\n",
    "a = np.random.rand(2,3)\n",
    "print(a)\n",
    "print(\"\\nSubtract the mean of each row of the said matrix:\\n\")\n",
    "b = a - a.mean(axis=1, keepdims=True)\n",
    "print(b)\n"
   ]
  },
  {
   "cell_type": "markdown",
   "metadata": {},
   "source": [
    "# 11.Consider a given vector, how to add 1 to each element indexed by a second vector (be careful with repeated indices)? "
   ]
  },
  {
   "cell_type": "code",
   "execution_count": 47,
   "metadata": {},
   "outputs": [
    {
     "name": "stdout",
     "output_type": "stream",
     "text": [
      "Given vector   :- [6 5 6 5 5 5 5 5 6]\n",
      "Indexing vector:- [0 0 0 1 1 1 1 3 3]\n",
      "Result         :- [7 6 6 6 5 5 5 5 6]\n"
     ]
    }
   ],
   "source": [
    "a = np.random.randint(5,7,9)\n",
    "print(\"Given vector   :-\", a)\n",
    "b = np.random.randint(a)\n",
    "c = []\n",
    "b.sort()\n",
    "for i in b:\n",
    "    if i not in c:\n",
    "        c.append(i)\n",
    "\n",
    "for j in c:\n",
    "    a[j] += 1\n",
    "\n",
    "print(\"Indexing vector:-\", b)\n",
    "print(\"Result         :-\",a)"
   ]
  },
  {
   "cell_type": "markdown",
   "metadata": {},
   "source": [
    "# 12.How to get the diagonal of a dot product?"
   ]
  },
  {
   "cell_type": "code",
   "execution_count": 50,
   "metadata": {},
   "outputs": [
    {
     "name": "stdout",
     "output_type": "stream",
     "text": [
      "Diagonal of Product :- [108  60]\n"
     ]
    }
   ],
   "source": [
    "a = [[7,9],[8,4]]\n",
    "b = [[9,3],[5,9]]\n",
    "c = np.diag(np.dot(a,b))\n",
    "print(\"Diagonal of Product :-\",c)"
   ]
  },
  {
   "cell_type": "markdown",
   "metadata": {},
   "source": [
    "# 13.How to find the most frequent value in an array?"
   ]
  },
  {
   "cell_type": "code",
   "execution_count": 55,
   "metadata": {},
   "outputs": [
    {
     "name": "stdout",
     "output_type": "stream",
     "text": [
      "Main array:-\n",
      "[17 71 47 68 52  2  9 75 19 75 26 68 18 10 62  0 62 11 46 59 19 64 50 14\n",
      " 11 75 57 20 29 69 29 35 72 14 64 28 76 13 26 37 10 37 51 57 22 30  6 30\n",
      " 45 39 19 29 58 29 10 23 67 35 54 16 52 19 62 45 48 66 41 25  8] \n",
      "\n",
      "Most frequent value in the above array:- 19\n"
     ]
    }
   ],
   "source": [
    "arr= np.random.randint(0, 77,69)\n",
    "print(\"Main array:-\")\n",
    "print(arr,\"\\n\")\n",
    "print(\"Most frequent value in the above array:-\",np.bincount(arr).argmax())"
   ]
  },
  {
   "cell_type": "markdown",
   "metadata": {},
   "source": [
    "# 14.How to get the n largest values of an array"
   ]
  },
  {
   "cell_type": "code",
   "execution_count": 58,
   "metadata": {},
   "outputs": [
    {
     "name": "stdout",
     "output_type": "stream",
     "text": [
      "Main array :-\n",
      "[  0   1   2   3   4   5   6   7   8   9  10  11  12  13  14  15  16  17\n",
      "  18  19  20  21  22  23  24  25  26  27  28  29  30  31  32  33  34  35\n",
      "  36  37  38  39  40  41  42  43  44  45  46  47  48  49  50  51  52  53\n",
      "  54  55  56  57  58  59  60  61  62  63  64  65  66  67  68  69  70  71\n",
      "  72  73  74  75  76  77  78  79  80  81  82  83  84  85  86  87  88  89\n",
      "  90  91  92  93  94  95  96  97  98  99 100 101 102 103 104 105 106 107\n",
      " 108 109 110 111 112 113 114 115 116 117 118 119 120 121 122 123 124 125\n",
      " 126 127 128 129 130 131 132 133 134 135 136 137 138 139 140 141 142 143\n",
      " 144 145 146 147 148 149 150 151 152 153 154 155 156 157 158 159 160 161\n",
      " 162 163 164 165 166 167 168 169 170 171 172 173 174 175 176 177 178 179\n",
      " 180 181 182 183 184 185 186 187 188 189 190 191 192 193 194 195 196 197\n",
      " 198 199 200 201 202 203 204 205 206 207 208 209 210 211 212 213 214 215\n",
      " 216 217 218 219 220 221 222 223 224 225 226 227 228 229 230 231 232 233\n",
      " 234 235 236 237 238 239 240 241 242 243 244 245 246 247 248 249 250 251\n",
      " 252 253 254 255 256 257 258 259 260 261 262 263 264 265 266 267 268 269\n",
      " 270 271 272 273 274 275 276 277 278 279 280 281 282 283 284 285 286 287\n",
      " 288 289 290 291 292 293 294 295 296 297 298 299 300 301 302 303 304 305\n",
      " 306 307 308 309 310 311 312 313 314 315 316 317 318 319 320 321 322 323\n",
      " 324 325 326 327 328 329 330 331 332 333 334 335 336 337 338 339 340 341\n",
      " 342 343 344 345 346 347 348 349 350 351 352 353 354 355 356 357 358 359\n",
      " 360 361 362 363 364 365 366 367 368 369 370 371 372 373 374 375 376 377\n",
      " 378 379 380 381 382 383 384 385 386 387 388 389 390 391 392 393 394 395\n",
      " 396 397 398 399 400 401 402 403 404 405 406 407 408 409 410 411 412 413\n",
      " 414 415 416 417 418 419 420 421 422 423 424 425 426 427 428 429 430 431\n",
      " 432 433 434 435 436 437 438 439 440 441 442 443 444 445 446 447 448 449\n",
      " 450 451 452 453 454 455 456 457 458 459 460 461 462 463 464 465 466 467\n",
      " 468 469 470 471 472 473 474 475 476 477 478 479 480 481 482 483 484 485\n",
      " 486 487 488 489 490 491 492 493 494 495 496 497 498 499 500 501 502 503\n",
      " 504 505 506 507 508 509 510 511 512 513 514 515 516 517 518 519 520 521\n",
      " 522 523 524 525 526 527 528 529 530 531 532 533 534 535 536 537 538 539\n",
      " 540 541 542 543 544 545 546 547 548 549 550 551 552 553 554 555 556 557\n",
      " 558 559 560 561 562 563 564 565 566 567 568 569 570 571 572 573 574 575\n",
      " 576 577 578 579 580 581 582 583 584 585 586 587 588 589 590 591 592 593\n",
      " 594 595 596 597 598 599 600 601 602 603 604 605 606 607 608 609 610 611\n",
      " 612 613 614 615 616 617 618 619 620 621 622 623 624 625 626 627 628 629\n",
      " 630 631 632 633 634 635 636 637 638 639 640 641 642 643 644 645 646 647\n",
      " 648 649 650 651 652 653 654 655 656 657 658 659 660 661 662 663 664 665\n",
      " 666 667 668 669 670 671 672 673 674 675 676 677 678 679 680 681 682 683\n",
      " 684 685 686 687 688 689 690 691 692 693 694 695 696 697 698 699 700 701\n",
      " 702 703 704 705 706 707 708 709 710 711 712 713 714 715 716 717 718 719\n",
      " 720 721 722 723 724 725 726 727 728 729 730 731 732 733 734 735 736 737\n",
      " 738 739 740 741 742 743 744 745 746 747 748 749 750 751 752 753 754 755\n",
      " 756 757 758 759 760 761 762 763 764 765 766 767 768 769 770 771 772 773\n",
      " 774 775 776]\n",
      "\n",
      " Largest Array:- [776]\n"
     ]
    }
   ],
   "source": [
    "a = np.arange(777)\n",
    "print(\"Main array :-\")\n",
    "print(a)\n",
    "np.random.shuffle(a)\n",
    "b =1\n",
    "print (\"\\n Largest Array:-\",a[np.argsort(a)[-b:]])"
   ]
  },
  {
   "cell_type": "markdown",
   "metadata": {},
   "source": [
    "# 15.How to create a record array from a regular array?"
   ]
  },
  {
   "cell_type": "code",
   "execution_count": 59,
   "metadata": {},
   "outputs": [
    {
     "name": "stdout",
     "output_type": "stream",
     "text": [
      "('Virat Kohli', 'Cristiano Ronaldo')\n",
      "('Mahi', 'Lional Messi')\n",
      "('Bhumhara ', 'Mbappe')\n",
      "('Sachin', 'Sergio Ramos')\n",
      "('Ab de villiers', 'Rashford')\n"
     ]
    }
   ],
   "source": [
    "a1=np.array(['Virat Kohli','Mahi','Bhumhara ','Sachin','Ab de villiers'])\n",
    "a2=np.array(['Cristiano Ronaldo','Lional Messi','Mbappe','Sergio Ramos','Rashford'])\n",
    "result= np.core.records.fromarrays([a1, a2])\n",
    "print(result[0])\n",
    "print(result[1])\n",
    "print(result[2])\n",
    "print(result[3])\n",
    "print(result[4])"
   ]
  }
 ],
 "metadata": {
  "kernelspec": {
   "display_name": "Python 3",
   "language": "python",
   "name": "python3"
  },
  "language_info": {
   "codemirror_mode": {
    "name": "ipython",
    "version": 3
   },
   "file_extension": ".py",
   "mimetype": "text/x-python",
   "name": "python",
   "nbconvert_exporter": "python",
   "pygments_lexer": "ipython3",
   "version": "3.7.6"
  }
 },
 "nbformat": 4,
 "nbformat_minor": 2
}
