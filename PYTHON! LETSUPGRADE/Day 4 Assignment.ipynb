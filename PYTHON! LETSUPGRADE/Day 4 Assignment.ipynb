{
 "cells": [
  {
   "cell_type": "markdown",
   "metadata": {},
   "source": [
    "# Q1\n"
   ]
  },
  {
   "cell_type": "code",
   "execution_count": 21,
   "metadata": {
    "scrolled": true
   },
   "outputs": [
    {
     "name": "stdout",
     "output_type": "stream",
     "text": [
      "(29+29j)\n",
      "(5+20j)\n",
      "(921+3303j)\n",
      "(0.755736868944416+1.0504844467108618j)\n"
     ]
    }
   ],
   "source": [
    "print((9+20j) + (20+9j)) #addition\n",
    "print((7+99j) - (2+79j)) #subtraction\n",
    "print((24+57j) * (55+7j)) #multiplication\n",
    "print((28+50j) / (44+5j)) #division\n",
    "# print((32+67j) % (39+69j)) modulo we can't do this operation in python 3 \n",
    "# print((45+89j) // (21+8j)) floor division we can't do this operation in python 3 \n"
   ]
  },
  {
   "cell_type": "markdown",
   "metadata": {},
   "source": [
    "# Q2\n",
    "## range function :\n",
    "in range funtion if we give __range (5) or (0,5) it will genrate number from 0 to 4 because in programming count start from 0 to 1__ it useful for looping & statements like if "
   ]
  },
  {
   "cell_type": "code",
   "execution_count": 27,
   "metadata": {},
   "outputs": [
    {
     "name": "stdout",
     "output_type": "stream",
     "text": [
      "0\n",
      "1\n",
      "2\n",
      "3\n",
      "4\n"
     ]
    }
   ],
   "source": [
    "for i in range(0,5) :\n",
    "    print(i)"
   ]
  },
  {
   "cell_type": "markdown",
   "metadata": {},
   "source": [
    "# Q3\n"
   ]
  },
  {
   "cell_type": "code",
   "execution_count": 35,
   "metadata": {},
   "outputs": [
    {
     "name": "stdout",
     "output_type": "stream",
     "text": [
      "55\n",
      "34\n",
      "division is 1.6176470588235294\n"
     ]
    }
   ],
   "source": [
    "a=int(input())\n",
    "b=int(input())\n",
    "c=a-b\n",
    "if c > 25 :\n",
    "    print('multiplication is',a*b)\n",
    "else :\n",
    "    print('division is',a/b)"
   ]
  },
  {
   "cell_type": "markdown",
   "metadata": {},
   "source": [
    "# Q4"
   ]
  },
  {
   "cell_type": "code",
   "execution_count": 52,
   "metadata": {},
   "outputs": [
    {
     "name": "stdout",
     "output_type": "stream",
     "text": [
      "2\n",
      "2114\n",
      "4094\n",
      "9602\n",
      "1048574\n",
      "8098\n",
      "6082\n"
     ]
    }
   ],
   "source": [
    "a=[2,23,46,64,43,77,98,1024,90,78]\n",
    "for i in a :\n",
    "    if i % 2==0 :\n",
    "        print((i**2)-2)\n",
    "    "
   ]
  },
  {
   "cell_type": "markdown",
   "metadata": {},
   "source": [
    "# Q5"
   ]
  },
  {
   "cell_type": "code",
   "execution_count": 61,
   "metadata": {},
   "outputs": [
    {
     "name": "stdout",
     "output_type": "stream",
     "text": [
      "10\n",
      "34\n",
      "22\n",
      "56\n",
      "78\n",
      "98\n"
     ]
    }
   ],
   "source": [
    "p=[10,1,34,22,45,56,7,78,98,123]\n",
    "for j in p :\n",
    "    if j>7 and j%2==0 :\n",
    "        print(j)"
   ]
  },
  {
   "cell_type": "code",
   "execution_count": null,
   "metadata": {},
   "outputs": [],
   "source": []
  }
 ],
 "metadata": {
  "kernelspec": {
   "display_name": "Python 3",
   "language": "python",
   "name": "python3"
  },
  "language_info": {
   "codemirror_mode": {
    "name": "ipython",
    "version": 3
   },
   "file_extension": ".py",
   "mimetype": "text/x-python",
   "name": "python",
   "nbconvert_exporter": "python",
   "pygments_lexer": "ipython3",
   "version": "3.7.6"
  }
 },
 "nbformat": 4,
 "nbformat_minor": 4
}
