{
 "cells": [
  {
   "cell_type": "markdown",
   "metadata": {},
   "source": [
    "# Import the packeges "
   ]
  },
  {
   "cell_type": "code",
   "execution_count": 33,
   "metadata": {},
   "outputs": [],
   "source": [
    "import pandas as pd \n",
    "import numpy as np\n",
    "from sklearn import preprocessing\n",
    "from sklearn import tree\n",
    "from sklearn.ensemble import RandomForestClassifier"
   ]
  },
  {
   "cell_type": "markdown",
   "metadata": {},
   "source": [
    "# Loading the dataset"
   ]
  },
  {
   "cell_type": "code",
   "execution_count": 18,
   "metadata": {},
   "outputs": [
    {
     "data": {
      "text/html": [
       "<div>\n",
       "<style scoped>\n",
       "    .dataframe tbody tr th:only-of-type {\n",
       "        vertical-align: middle;\n",
       "    }\n",
       "\n",
       "    .dataframe tbody tr th {\n",
       "        vertical-align: top;\n",
       "    }\n",
       "\n",
       "    .dataframe thead th {\n",
       "        text-align: right;\n",
       "    }\n",
       "</style>\n",
       "<table border=\"1\" class=\"dataframe\">\n",
       "  <thead>\n",
       "    <tr style=\"text-align: right;\">\n",
       "      <th></th>\n",
       "      <th>Age</th>\n",
       "      <th>Attrition</th>\n",
       "      <th>BusinessTravel</th>\n",
       "      <th>Department</th>\n",
       "      <th>DistanceFromHome</th>\n",
       "      <th>Education</th>\n",
       "      <th>EducationField</th>\n",
       "      <th>EmployeeCount</th>\n",
       "      <th>EmployeeID</th>\n",
       "      <th>Gender</th>\n",
       "      <th>...</th>\n",
       "      <th>NumCompaniesWorked</th>\n",
       "      <th>Over18</th>\n",
       "      <th>PercentSalaryHike</th>\n",
       "      <th>StandardHours</th>\n",
       "      <th>StockOptionLevel</th>\n",
       "      <th>TotalWorkingYears</th>\n",
       "      <th>TrainingTimesLastYear</th>\n",
       "      <th>YearsAtCompany</th>\n",
       "      <th>YearsSinceLastPromotion</th>\n",
       "      <th>YearsWithCurrManager</th>\n",
       "    </tr>\n",
       "  </thead>\n",
       "  <tbody>\n",
       "    <tr>\n",
       "      <th>0</th>\n",
       "      <td>51</td>\n",
       "      <td>No</td>\n",
       "      <td>Travel_Rarely</td>\n",
       "      <td>Sales</td>\n",
       "      <td>6</td>\n",
       "      <td>2</td>\n",
       "      <td>Life Sciences</td>\n",
       "      <td>1</td>\n",
       "      <td>1</td>\n",
       "      <td>Female</td>\n",
       "      <td>...</td>\n",
       "      <td>1.0</td>\n",
       "      <td>Y</td>\n",
       "      <td>11</td>\n",
       "      <td>8</td>\n",
       "      <td>0</td>\n",
       "      <td>1.0</td>\n",
       "      <td>6</td>\n",
       "      <td>1</td>\n",
       "      <td>0</td>\n",
       "      <td>0</td>\n",
       "    </tr>\n",
       "    <tr>\n",
       "      <th>1</th>\n",
       "      <td>31</td>\n",
       "      <td>Yes</td>\n",
       "      <td>Travel_Frequently</td>\n",
       "      <td>Research &amp; Development</td>\n",
       "      <td>10</td>\n",
       "      <td>1</td>\n",
       "      <td>Life Sciences</td>\n",
       "      <td>1</td>\n",
       "      <td>2</td>\n",
       "      <td>Female</td>\n",
       "      <td>...</td>\n",
       "      <td>0.0</td>\n",
       "      <td>Y</td>\n",
       "      <td>23</td>\n",
       "      <td>8</td>\n",
       "      <td>1</td>\n",
       "      <td>6.0</td>\n",
       "      <td>3</td>\n",
       "      <td>5</td>\n",
       "      <td>1</td>\n",
       "      <td>4</td>\n",
       "    </tr>\n",
       "    <tr>\n",
       "      <th>2</th>\n",
       "      <td>32</td>\n",
       "      <td>No</td>\n",
       "      <td>Travel_Frequently</td>\n",
       "      <td>Research &amp; Development</td>\n",
       "      <td>17</td>\n",
       "      <td>4</td>\n",
       "      <td>Other</td>\n",
       "      <td>1</td>\n",
       "      <td>3</td>\n",
       "      <td>Male</td>\n",
       "      <td>...</td>\n",
       "      <td>1.0</td>\n",
       "      <td>Y</td>\n",
       "      <td>15</td>\n",
       "      <td>8</td>\n",
       "      <td>3</td>\n",
       "      <td>5.0</td>\n",
       "      <td>2</td>\n",
       "      <td>5</td>\n",
       "      <td>0</td>\n",
       "      <td>3</td>\n",
       "    </tr>\n",
       "    <tr>\n",
       "      <th>3</th>\n",
       "      <td>38</td>\n",
       "      <td>No</td>\n",
       "      <td>Non-Travel</td>\n",
       "      <td>Research &amp; Development</td>\n",
       "      <td>2</td>\n",
       "      <td>5</td>\n",
       "      <td>Life Sciences</td>\n",
       "      <td>1</td>\n",
       "      <td>4</td>\n",
       "      <td>Male</td>\n",
       "      <td>...</td>\n",
       "      <td>3.0</td>\n",
       "      <td>Y</td>\n",
       "      <td>11</td>\n",
       "      <td>8</td>\n",
       "      <td>3</td>\n",
       "      <td>13.0</td>\n",
       "      <td>5</td>\n",
       "      <td>8</td>\n",
       "      <td>7</td>\n",
       "      <td>5</td>\n",
       "    </tr>\n",
       "    <tr>\n",
       "      <th>4</th>\n",
       "      <td>32</td>\n",
       "      <td>No</td>\n",
       "      <td>Travel_Rarely</td>\n",
       "      <td>Research &amp; Development</td>\n",
       "      <td>10</td>\n",
       "      <td>1</td>\n",
       "      <td>Medical</td>\n",
       "      <td>1</td>\n",
       "      <td>5</td>\n",
       "      <td>Male</td>\n",
       "      <td>...</td>\n",
       "      <td>4.0</td>\n",
       "      <td>Y</td>\n",
       "      <td>12</td>\n",
       "      <td>8</td>\n",
       "      <td>2</td>\n",
       "      <td>9.0</td>\n",
       "      <td>2</td>\n",
       "      <td>6</td>\n",
       "      <td>0</td>\n",
       "      <td>4</td>\n",
       "    </tr>\n",
       "  </tbody>\n",
       "</table>\n",
       "<p>5 rows × 24 columns</p>\n",
       "</div>"
      ],
      "text/plain": [
       "   Age Attrition     BusinessTravel              Department  DistanceFromHome  \\\n",
       "0   51        No      Travel_Rarely                   Sales                 6   \n",
       "1   31       Yes  Travel_Frequently  Research & Development                10   \n",
       "2   32        No  Travel_Frequently  Research & Development                17   \n",
       "3   38        No         Non-Travel  Research & Development                 2   \n",
       "4   32        No      Travel_Rarely  Research & Development                10   \n",
       "\n",
       "   Education EducationField  EmployeeCount  EmployeeID  Gender  ...  \\\n",
       "0          2  Life Sciences              1           1  Female  ...   \n",
       "1          1  Life Sciences              1           2  Female  ...   \n",
       "2          4          Other              1           3    Male  ...   \n",
       "3          5  Life Sciences              1           4    Male  ...   \n",
       "4          1        Medical              1           5    Male  ...   \n",
       "\n",
       "   NumCompaniesWorked Over18 PercentSalaryHike  StandardHours  \\\n",
       "0                 1.0      Y                11              8   \n",
       "1                 0.0      Y                23              8   \n",
       "2                 1.0      Y                15              8   \n",
       "3                 3.0      Y                11              8   \n",
       "4                 4.0      Y                12              8   \n",
       "\n",
       "   StockOptionLevel TotalWorkingYears  TrainingTimesLastYear  YearsAtCompany  \\\n",
       "0                 0               1.0                      6               1   \n",
       "1                 1               6.0                      3               5   \n",
       "2                 3               5.0                      2               5   \n",
       "3                 3              13.0                      5               8   \n",
       "4                 2               9.0                      2               6   \n",
       "\n",
       "   YearsSinceLastPromotion  YearsWithCurrManager  \n",
       "0                        0                     0  \n",
       "1                        1                     4  \n",
       "2                        0                     3  \n",
       "3                        7                     5  \n",
       "4                        0                     4  \n",
       "\n",
       "[5 rows x 24 columns]"
      ]
     },
     "execution_count": 18,
     "metadata": {},
     "output_type": "execute_result"
    }
   ],
   "source": [
    "job_data=pd.read_csv('C:/Python/Day-24/Dataset/general_data.csv')\n",
    "job_data.head()"
   ]
  },
  {
   "cell_type": "markdown",
   "metadata": {},
   "source": [
    "# Checking for Null Values"
   ]
  },
  {
   "cell_type": "code",
   "execution_count": 19,
   "metadata": {},
   "outputs": [
    {
     "data": {
      "text/plain": [
       "Age                         0\n",
       "Attrition                   0\n",
       "BusinessTravel              0\n",
       "Department                  0\n",
       "DistanceFromHome            0\n",
       "Education                   0\n",
       "EducationField              0\n",
       "EmployeeCount               0\n",
       "EmployeeID                  0\n",
       "Gender                      0\n",
       "JobLevel                    0\n",
       "JobRole                     0\n",
       "MaritalStatus               0\n",
       "MonthlyIncome               0\n",
       "NumCompaniesWorked         19\n",
       "Over18                      0\n",
       "PercentSalaryHike           0\n",
       "StandardHours               0\n",
       "StockOptionLevel            0\n",
       "TotalWorkingYears           9\n",
       "TrainingTimesLastYear       0\n",
       "YearsAtCompany              0\n",
       "YearsSinceLastPromotion     0\n",
       "YearsWithCurrManager        0\n",
       "dtype: int64"
      ]
     },
     "execution_count": 19,
     "metadata": {},
     "output_type": "execute_result"
    }
   ],
   "source": [
    "job_data.isna().sum()"
   ]
  },
  {
   "cell_type": "code",
   "execution_count": 23,
   "metadata": {},
   "outputs": [
    {
     "data": {
      "text/plain": [
       "2.696145124716553"
      ]
     },
     "execution_count": 23,
     "metadata": {},
     "output_type": "execute_result"
    }
   ],
   "source": [
    "job_data['NumCompaniesWorked'].mean()"
   ]
  },
  {
   "cell_type": "code",
   "execution_count": 24,
   "metadata": {},
   "outputs": [],
   "source": [
    "new_NumCompaniesWorked_var=np.where(job_data['NumCompaniesWorked'].isnull(),3,job_data['NumCompaniesWorked']) \n",
    "#Here we replaced wherever is null value\n",
    "#we repalced as 3 using where function"
   ]
  },
  {
   "cell_type": "code",
   "execution_count": 28,
   "metadata": {},
   "outputs": [],
   "source": [
    "['NumCompaniesWorked']=new_NumCompaniesWorked_var"
   ]
  },
  {
   "cell_type": "code",
   "execution_count": 29,
   "metadata": {},
   "outputs": [
    {
     "data": {
      "text/plain": [
       "11.279936378095888"
      ]
     },
     "execution_count": 29,
     "metadata": {},
     "output_type": "execute_result"
    }
   ],
   "source": [
    "job_data['TotalWorkingYears'].mean()"
   ]
  },
  {
   "cell_type": "code",
   "execution_count": 30,
   "metadata": {},
   "outputs": [],
   "source": [
    "new_TotalWorkingYears_var=np.where(job_data['TotalWorkingYears'].isnull(),11,job_data['TotalWorkingYears']) \n",
    "#Here we replaced wherever is null value\n",
    "#we repalced as 11 using where function"
   ]
  },
  {
   "cell_type": "code",
   "execution_count": 31,
   "metadata": {},
   "outputs": [],
   "source": [
    "job_data['TotalWorkingYears']=new_TotalWorkingYears_var"
   ]
  },
  {
   "cell_type": "code",
   "execution_count": 32,
   "metadata": {},
   "outputs": [
    {
     "data": {
      "text/plain": [
       "Age                        0\n",
       "Attrition                  0\n",
       "BusinessTravel             0\n",
       "Department                 0\n",
       "DistanceFromHome           0\n",
       "Education                  0\n",
       "EducationField             0\n",
       "EmployeeCount              0\n",
       "EmployeeID                 0\n",
       "Gender                     0\n",
       "JobLevel                   0\n",
       "JobRole                    0\n",
       "MaritalStatus              0\n",
       "MonthlyIncome              0\n",
       "NumCompaniesWorked         0\n",
       "Over18                     0\n",
       "PercentSalaryHike          0\n",
       "StandardHours              0\n",
       "StockOptionLevel           0\n",
       "TotalWorkingYears          0\n",
       "TrainingTimesLastYear      0\n",
       "YearsAtCompany             0\n",
       "YearsSinceLastPromotion    0\n",
       "YearsWithCurrManager       0\n",
       "dtype: int64"
      ]
     },
     "execution_count": 32,
     "metadata": {},
     "output_type": "execute_result"
    }
   ],
   "source": [
    "job_data.isna().sum()"
   ]
  },
  {
   "cell_type": "markdown",
   "metadata": {},
   "source": [
    "# Dropping Unnecessary data"
   ]
  },
  {
   "cell_type": "code",
   "execution_count": 139,
   "metadata": {},
   "outputs": [
    {
     "data": {
      "text/html": [
       "<div>\n",
       "<style scoped>\n",
       "    .dataframe tbody tr th:only-of-type {\n",
       "        vertical-align: middle;\n",
       "    }\n",
       "\n",
       "    .dataframe tbody tr th {\n",
       "        vertical-align: top;\n",
       "    }\n",
       "\n",
       "    .dataframe thead th {\n",
       "        text-align: right;\n",
       "    }\n",
       "</style>\n",
       "<table border=\"1\" class=\"dataframe\">\n",
       "  <thead>\n",
       "    <tr style=\"text-align: right;\">\n",
       "      <th></th>\n",
       "      <th>Age</th>\n",
       "      <th>Attrition</th>\n",
       "      <th>DistanceFromHome</th>\n",
       "      <th>Education</th>\n",
       "      <th>EmployeeCount</th>\n",
       "      <th>EmployeeID</th>\n",
       "      <th>Gender</th>\n",
       "      <th>JobLevel</th>\n",
       "      <th>MonthlyIncome</th>\n",
       "      <th>NumCompaniesWorked</th>\n",
       "      <th>PercentSalaryHike</th>\n",
       "      <th>StandardHours</th>\n",
       "      <th>StockOptionLevel</th>\n",
       "      <th>TotalWorkingYears</th>\n",
       "      <th>TrainingTimesLastYear</th>\n",
       "      <th>YearsAtCompany</th>\n",
       "      <th>YearsSinceLastPromotion</th>\n",
       "      <th>YearsWithCurrManager</th>\n",
       "    </tr>\n",
       "  </thead>\n",
       "  <tbody>\n",
       "    <tr>\n",
       "      <th>0</th>\n",
       "      <td>51</td>\n",
       "      <td>0</td>\n",
       "      <td>6</td>\n",
       "      <td>2</td>\n",
       "      <td>1</td>\n",
       "      <td>1</td>\n",
       "      <td>0</td>\n",
       "      <td>1</td>\n",
       "      <td>131160</td>\n",
       "      <td>1.0</td>\n",
       "      <td>11</td>\n",
       "      <td>8</td>\n",
       "      <td>0</td>\n",
       "      <td>1.0</td>\n",
       "      <td>6</td>\n",
       "      <td>1</td>\n",
       "      <td>0</td>\n",
       "      <td>0</td>\n",
       "    </tr>\n",
       "    <tr>\n",
       "      <th>1</th>\n",
       "      <td>31</td>\n",
       "      <td>1</td>\n",
       "      <td>10</td>\n",
       "      <td>1</td>\n",
       "      <td>1</td>\n",
       "      <td>2</td>\n",
       "      <td>0</td>\n",
       "      <td>1</td>\n",
       "      <td>41890</td>\n",
       "      <td>0.0</td>\n",
       "      <td>23</td>\n",
       "      <td>8</td>\n",
       "      <td>1</td>\n",
       "      <td>6.0</td>\n",
       "      <td>3</td>\n",
       "      <td>5</td>\n",
       "      <td>1</td>\n",
       "      <td>4</td>\n",
       "    </tr>\n",
       "    <tr>\n",
       "      <th>2</th>\n",
       "      <td>32</td>\n",
       "      <td>0</td>\n",
       "      <td>17</td>\n",
       "      <td>4</td>\n",
       "      <td>1</td>\n",
       "      <td>3</td>\n",
       "      <td>1</td>\n",
       "      <td>4</td>\n",
       "      <td>193280</td>\n",
       "      <td>1.0</td>\n",
       "      <td>15</td>\n",
       "      <td>8</td>\n",
       "      <td>3</td>\n",
       "      <td>5.0</td>\n",
       "      <td>2</td>\n",
       "      <td>5</td>\n",
       "      <td>0</td>\n",
       "      <td>3</td>\n",
       "    </tr>\n",
       "    <tr>\n",
       "      <th>3</th>\n",
       "      <td>38</td>\n",
       "      <td>0</td>\n",
       "      <td>2</td>\n",
       "      <td>5</td>\n",
       "      <td>1</td>\n",
       "      <td>4</td>\n",
       "      <td>1</td>\n",
       "      <td>3</td>\n",
       "      <td>83210</td>\n",
       "      <td>3.0</td>\n",
       "      <td>11</td>\n",
       "      <td>8</td>\n",
       "      <td>3</td>\n",
       "      <td>13.0</td>\n",
       "      <td>5</td>\n",
       "      <td>8</td>\n",
       "      <td>7</td>\n",
       "      <td>5</td>\n",
       "    </tr>\n",
       "    <tr>\n",
       "      <th>4</th>\n",
       "      <td>32</td>\n",
       "      <td>0</td>\n",
       "      <td>10</td>\n",
       "      <td>1</td>\n",
       "      <td>1</td>\n",
       "      <td>5</td>\n",
       "      <td>1</td>\n",
       "      <td>1</td>\n",
       "      <td>23420</td>\n",
       "      <td>4.0</td>\n",
       "      <td>12</td>\n",
       "      <td>8</td>\n",
       "      <td>2</td>\n",
       "      <td>9.0</td>\n",
       "      <td>2</td>\n",
       "      <td>6</td>\n",
       "      <td>0</td>\n",
       "      <td>4</td>\n",
       "    </tr>\n",
       "  </tbody>\n",
       "</table>\n",
       "</div>"
      ],
      "text/plain": [
       "   Age  Attrition  DistanceFromHome  Education  EmployeeCount  EmployeeID  \\\n",
       "0   51          0                 6          2              1           1   \n",
       "1   31          1                10          1              1           2   \n",
       "2   32          0                17          4              1           3   \n",
       "3   38          0                 2          5              1           4   \n",
       "4   32          0                10          1              1           5   \n",
       "\n",
       "   Gender  JobLevel  MonthlyIncome  NumCompaniesWorked  PercentSalaryHike  \\\n",
       "0       0         1         131160                 1.0                 11   \n",
       "1       0         1          41890                 0.0                 23   \n",
       "2       1         4         193280                 1.0                 15   \n",
       "3       1         3          83210                 3.0                 11   \n",
       "4       1         1          23420                 4.0                 12   \n",
       "\n",
       "   StandardHours  StockOptionLevel  TotalWorkingYears  TrainingTimesLastYear  \\\n",
       "0              8                 0                1.0                      6   \n",
       "1              8                 1                6.0                      3   \n",
       "2              8                 3                5.0                      2   \n",
       "3              8                 3               13.0                      5   \n",
       "4              8                 2                9.0                      2   \n",
       "\n",
       "   YearsAtCompany  YearsSinceLastPromotion  YearsWithCurrManager  \n",
       "0               1                        0                     0  \n",
       "1               5                        1                     4  \n",
       "2               5                        0                     3  \n",
       "3               8                        7                     5  \n",
       "4               6                        0                     4  "
      ]
     },
     "execution_count": 139,
     "metadata": {},
     "output_type": "execute_result"
    }
   ],
   "source": [
    "job_data.drop(['BusinessTravel','Department','EducationField','JobRole','MaritalStatus','Over18'],axis=1,inplace=True)\n",
    "job_data.head()"
   ]
  },
  {
   "cell_type": "markdown",
   "metadata": {},
   "source": [
    "### Now we are going to use Tree Model so we are using Random Forest here"
   ]
  },
  {
   "cell_type": "code",
   "execution_count": 140,
   "metadata": {},
   "outputs": [
    {
     "data": {
      "text/plain": [
       "Index(['Age', 'Attrition', 'DistanceFromHome', 'Education', 'EmployeeCount',\n",
       "       'EmployeeID', 'Gender', 'JobLevel', 'MonthlyIncome',\n",
       "       'NumCompaniesWorked', 'PercentSalaryHike', 'StandardHours',\n",
       "       'StockOptionLevel', 'TotalWorkingYears', 'TrainingTimesLastYear',\n",
       "       'YearsAtCompany', 'YearsSinceLastPromotion', 'YearsWithCurrManager'],\n",
       "      dtype='object')"
      ]
     },
     "execution_count": 140,
     "metadata": {},
     "output_type": "execute_result"
    }
   ],
   "source": [
    "from sklearn.ensemble import RandomForestClassifier\n",
    "job_data.columns"
   ]
  },
  {
   "cell_type": "markdown",
   "metadata": {},
   "source": [
    "# Definfing Attributes of random forest"
   ]
  },
  {
   "cell_type": "code",
   "execution_count": 142,
   "metadata": {},
   "outputs": [],
   "source": [
    "rfc_model= RandomForestClassifier(n_estimators=1000, max_features=2, oob_score=True)\n",
    "features = ['Age','DistanceFromHome','Education','EmployeeCount','EmployeeID','Gender','JobLevel','MonthlyIncome'\n",
    "            ,'NumCompaniesWorked','PercentSalaryHike','StandardHours','StockOptionLevel','TotalWorkingYears',\n",
    "            'TrainingTimesLastYear','YearsAtCompany','YearsSinceLastPromotion','YearsWithCurrManager']"
   ]
  },
  {
   "cell_type": "code",
   "execution_count": 145,
   "metadata": {},
   "outputs": [
    {
     "data": {
      "text/plain": [
       "RandomForestClassifier(bootstrap=True, ccp_alpha=0.0, class_weight=None,\n",
       "                       criterion='gini', max_depth=None, max_features=2,\n",
       "                       max_leaf_nodes=None, max_samples=None,\n",
       "                       min_impurity_decrease=0.0, min_impurity_split=None,\n",
       "                       min_samples_leaf=1, min_samples_split=2,\n",
       "                       min_weight_fraction_leaf=0.0, n_estimators=1000,\n",
       "                       n_jobs=None, oob_score=True, random_state=None,\n",
       "                       verbose=0, warm_start=False)"
      ]
     },
     "execution_count": 145,
     "metadata": {},
     "output_type": "execute_result"
    }
   ],
   "source": [
    "rfc_model.fit( X =job_data[features], y=job_data['Attrition'])"
   ]
  },
  {
   "cell_type": "markdown",
   "metadata": {},
   "source": [
    "# OOB Accuracy"
   ]
  },
  {
   "cell_type": "code",
   "execution_count": 147,
   "metadata": {},
   "outputs": [
    {
     "name": "stdout",
     "output_type": "stream",
     "text": [
      "Accuracy of 17 IDV and 1 DV \n",
      "OOB Accuracy :-  0.999092970521542\n"
     ]
    }
   ],
   "source": [
    "print('Accuracy of 17 IDV and 1 DV ')\n",
    "print('OOB Accuracy :- ',rfc_model.oob_score_)"
   ]
  },
  {
   "cell_type": "markdown",
   "metadata": {},
   "source": [
    " # Impure Variable   "
   ]
  },
  {
   "cell_type": "code",
   "execution_count": 149,
   "metadata": {},
   "outputs": [
    {
     "name": "stdout",
     "output_type": "stream",
     "text": [
      "Age 0.11478701823041089\n",
      "DistanceFromHome 0.08554247653025031\n",
      "Education 0.04736151034606778\n",
      "EmployeeCount 0.0\n",
      "EmployeeID 0.05183525098487981\n",
      "Gender 0.02057090032917995\n",
      "JobLevel 0.04578674286418814\n",
      "MonthlyIncome 0.12029490192943491\n",
      "NumCompaniesWorked 0.06301628294132039\n",
      "PercentSalaryHike 0.07723311109959549\n",
      "StandardHours 0.0\n",
      "StockOptionLevel 0.040308128201212476\n",
      "TotalWorkingYears 0.09801104241215104\n",
      "TrainingTimesLastYear 0.05282210173340146\n",
      "YearsAtCompany 0.07598977846025458\n",
      "YearsSinceLastPromotion 0.04786621190039566\n",
      "YearsWithCurrManager 0.05857454203725708\n"
     ]
    }
   ],
   "source": [
    "for features,imp in zip (features,rfc_model.feature_importances_) :\n",
    "    print(features,imp)"
   ]
  },
  {
   "cell_type": "markdown",
   "metadata": {},
   "source": [
    "# Decision Tree"
   ]
  },
  {
   "cell_type": "code",
   "execution_count": 181,
   "metadata": {},
   "outputs": [
    {
     "data": {
      "text/plain": [
       "DecisionTreeClassifier(ccp_alpha=0.0, class_weight=None, criterion='gini',\n",
       "                       max_depth=8, max_features=None, max_leaf_nodes=None,\n",
       "                       min_impurity_decrease=0.0, min_impurity_split=None,\n",
       "                       min_samples_leaf=1, min_samples_split=2,\n",
       "                       min_weight_fraction_leaf=0.0, presort='deprecated',\n",
       "                       random_state=None, splitter='best')"
      ]
     },
     "execution_count": 181,
     "metadata": {},
     "output_type": "execute_result"
    }
   ],
   "source": [
    "predictors = pd.DataFrame([job_data['DistanceFromHome'],job_data['TotalWorkingYears'],job_data['MonthlyIncome']\n",
    "                           ,job_data['Age'],job_data['PercentSalaryHike'],job_data['YearsAtCompany'],job_data['YearsWithCurrManager'],job_data['TrainingTimesLastYear']]).T\n",
    "tree_model = tree.DecisionTreeClassifier(max_depth=8)\n",
    "tree_model.fit(X=predictors, y=job_data['Attrition'])"
   ]
  },
  {
   "cell_type": "markdown",
   "metadata": {},
   "source": [
    "# Graphviz"
   ]
  },
  {
   "cell_type": "code",
   "execution_count": 186,
   "metadata": {},
   "outputs": [],
   "source": [
    "with open('Attriation_Analysis.dot','w') as f :\n",
    "    f = tree.export_graphviz(tree_model, feature_names=['DistanceFromHome','TotalWorkingYears','MonthlyIncome','Age','PercentSalaryHike'\n",
    "                                                        ,'YearsAtCompany','YearsWithCurrManager','TrainingTimesLastYear'], out_file=f);"
   ]
  },
  {
   "cell_type": "markdown",
   "metadata": {},
   "source": [
    "# Accuracy"
   ]
  },
  {
   "cell_type": "code",
   "execution_count": 187,
   "metadata": {},
   "outputs": [
    {
     "data": {
      "text/plain": [
       "0.9027210884353741"
      ]
     },
     "execution_count": 187,
     "metadata": {},
     "output_type": "execute_result"
    }
   ],
   "source": [
    "Accuracy = tree_model.score(X=predictors, y=job_data['Attrition'])\n",
    "Accuracy"
   ]
  },
  {
   "cell_type": "markdown",
   "metadata": {},
   "source": [
    "## This model is 90.2 % is accurate"
   ]
  },
  {
   "cell_type": "code",
   "execution_count": 188,
   "metadata": {},
   "outputs": [
    {
     "name": "stdout",
     "output_type": "stream",
     "text": [
      "|--- TotalWorkingYears <= 1.50\n",
      "|   |--- Age <= 33.50\n",
      "|   |   |--- MonthlyIncome <= 112610.00\n",
      "|   |   |   |--- MonthlyIncome <= 23140.00\n",
      "|   |   |   |   |--- PercentSalaryHike <= 12.50\n",
      "|   |   |   |   |   |--- TrainingTimesLastYear <= 3.00\n",
      "|   |   |   |   |   |   |--- class: 1\n",
      "|   |   |   |   |   |--- TrainingTimesLastYear >  3.00\n",
      "|   |   |   |   |   |   |--- class: 0\n",
      "|   |   |   |   |--- PercentSalaryHike >  12.50\n",
      "|   |   |   |   |   |--- class: 0\n",
      "|   |   |   |--- MonthlyIncome >  23140.00\n",
      "|   |   |   |   |--- Age <= 23.50\n",
      "|   |   |   |   |   |--- Age <= 18.50\n",
      "|   |   |   |   |   |   |--- DistanceFromHome <= 4.00\n",
      "|   |   |   |   |   |   |   |--- PercentSalaryHike <= 20.00\n",
      "|   |   |   |   |   |   |   |   |--- class: 1\n",
      "|   |   |   |   |   |   |   |--- PercentSalaryHike >  20.00\n",
      "|   |   |   |   |   |   |   |   |--- class: 0\n",
      "|   |   |   |   |   |   |--- DistanceFromHome >  4.00\n",
      "|   |   |   |   |   |   |   |--- class: 0\n",
      "|   |   |   |   |   |--- Age >  18.50\n",
      "|   |   |   |   |   |   |--- MonthlyIncome <= 106255.00\n",
      "|   |   |   |   |   |   |   |--- class: 1\n",
      "|   |   |   |   |   |   |--- MonthlyIncome >  106255.00\n",
      "|   |   |   |   |   |   |   |--- class: 0\n",
      "|   |   |   |   |--- Age >  23.50\n",
      "|   |   |   |   |   |--- MonthlyIncome <= 32530.00\n",
      "|   |   |   |   |   |   |--- PercentSalaryHike <= 23.50\n",
      "|   |   |   |   |   |   |   |--- TotalWorkingYears <= 0.50\n",
      "|   |   |   |   |   |   |   |   |--- class: 0\n",
      "|   |   |   |   |   |   |   |--- TotalWorkingYears >  0.50\n",
      "|   |   |   |   |   |   |   |   |--- class: 1\n",
      "|   |   |   |   |   |   |--- PercentSalaryHike >  23.50\n",
      "|   |   |   |   |   |   |   |--- class: 0\n",
      "|   |   |   |   |   |--- MonthlyIncome >  32530.00\n",
      "|   |   |   |   |   |   |--- DistanceFromHome <= 11.50\n",
      "|   |   |   |   |   |   |   |--- MonthlyIncome <= 63965.00\n",
      "|   |   |   |   |   |   |   |   |--- class: 0\n",
      "|   |   |   |   |   |   |   |--- MonthlyIncome >  63965.00\n",
      "|   |   |   |   |   |   |   |   |--- class: 1\n",
      "|   |   |   |   |   |   |--- DistanceFromHome >  11.50\n",
      "|   |   |   |   |   |   |   |--- MonthlyIncome <= 64960.00\n",
      "|   |   |   |   |   |   |   |   |--- class: 1\n",
      "|   |   |   |   |   |   |   |--- MonthlyIncome >  64960.00\n",
      "|   |   |   |   |   |   |   |   |--- class: 0\n",
      "|   |   |--- MonthlyIncome >  112610.00\n",
      "|   |   |   |--- DistanceFromHome <= 5.00\n",
      "|   |   |   |   |--- class: 0\n",
      "|   |   |   |--- DistanceFromHome >  5.00\n",
      "|   |   |   |   |--- MonthlyIncome <= 161855.00\n",
      "|   |   |   |   |   |--- class: 1\n",
      "|   |   |   |   |--- MonthlyIncome >  161855.00\n",
      "|   |   |   |   |   |--- class: 0\n",
      "|   |--- Age >  33.50\n",
      "|   |   |--- MonthlyIncome <= 25425.00\n",
      "|   |   |   |--- Age <= 34.50\n",
      "|   |   |   |   |--- class: 0\n",
      "|   |   |   |--- Age >  34.50\n",
      "|   |   |   |   |--- class: 1\n",
      "|   |   |--- MonthlyIncome >  25425.00\n",
      "|   |   |   |--- class: 0\n",
      "|--- TotalWorkingYears >  1.50\n",
      "|   |--- Age <= 33.50\n",
      "|   |   |--- YearsAtCompany <= 2.50\n",
      "|   |   |   |--- Age <= 27.50\n",
      "|   |   |   |   |--- TrainingTimesLastYear <= 5.50\n",
      "|   |   |   |   |   |--- TotalWorkingYears <= 3.50\n",
      "|   |   |   |   |   |   |--- Age <= 21.50\n",
      "|   |   |   |   |   |   |   |--- DistanceFromHome <= 19.00\n",
      "|   |   |   |   |   |   |   |   |--- class: 0\n",
      "|   |   |   |   |   |   |   |--- DistanceFromHome >  19.00\n",
      "|   |   |   |   |   |   |   |   |--- class: 1\n",
      "|   |   |   |   |   |   |--- Age >  21.50\n",
      "|   |   |   |   |   |   |   |--- class: 0\n",
      "|   |   |   |   |   |--- TotalWorkingYears >  3.50\n",
      "|   |   |   |   |   |   |--- Age <= 24.50\n",
      "|   |   |   |   |   |   |   |--- Age <= 23.50\n",
      "|   |   |   |   |   |   |   |   |--- class: 0\n",
      "|   |   |   |   |   |   |   |--- Age >  23.50\n",
      "|   |   |   |   |   |   |   |   |--- class: 1\n",
      "|   |   |   |   |   |   |--- Age >  24.50\n",
      "|   |   |   |   |   |   |   |--- MonthlyIncome <= 26765.00\n",
      "|   |   |   |   |   |   |   |   |--- class: 1\n",
      "|   |   |   |   |   |   |   |--- MonthlyIncome >  26765.00\n",
      "|   |   |   |   |   |   |   |   |--- class: 0\n",
      "|   |   |   |   |--- TrainingTimesLastYear >  5.50\n",
      "|   |   |   |   |   |--- class: 1\n",
      "|   |   |   |--- Age >  27.50\n",
      "|   |   |   |   |--- YearsWithCurrManager <= 1.50\n",
      "|   |   |   |   |   |--- PercentSalaryHike <= 20.50\n",
      "|   |   |   |   |   |   |--- Age <= 31.50\n",
      "|   |   |   |   |   |   |   |--- DistanceFromHome <= 22.50\n",
      "|   |   |   |   |   |   |   |   |--- class: 1\n",
      "|   |   |   |   |   |   |   |--- DistanceFromHome >  22.50\n",
      "|   |   |   |   |   |   |   |   |--- class: 0\n",
      "|   |   |   |   |   |   |--- Age >  31.50\n",
      "|   |   |   |   |   |   |   |--- PercentSalaryHike <= 13.50\n",
      "|   |   |   |   |   |   |   |   |--- class: 1\n",
      "|   |   |   |   |   |   |   |--- PercentSalaryHike >  13.50\n",
      "|   |   |   |   |   |   |   |   |--- class: 0\n",
      "|   |   |   |   |   |--- PercentSalaryHike >  20.50\n",
      "|   |   |   |   |   |   |--- class: 0\n",
      "|   |   |   |   |--- YearsWithCurrManager >  1.50\n",
      "|   |   |   |   |   |--- PercentSalaryHike <= 21.50\n",
      "|   |   |   |   |   |   |--- MonthlyIncome <= 185010.00\n",
      "|   |   |   |   |   |   |   |--- MonthlyIncome <= 53420.00\n",
      "|   |   |   |   |   |   |   |   |--- class: 0\n",
      "|   |   |   |   |   |   |   |--- MonthlyIncome >  53420.00\n",
      "|   |   |   |   |   |   |   |   |--- class: 0\n",
      "|   |   |   |   |   |   |--- MonthlyIncome >  185010.00\n",
      "|   |   |   |   |   |   |   |--- class: 1\n",
      "|   |   |   |   |   |--- PercentSalaryHike >  21.50\n",
      "|   |   |   |   |   |   |--- DistanceFromHome <= 4.00\n",
      "|   |   |   |   |   |   |   |--- class: 0\n",
      "|   |   |   |   |   |   |--- DistanceFromHome >  4.00\n",
      "|   |   |   |   |   |   |   |--- class: 1\n",
      "|   |   |--- YearsAtCompany >  2.50\n",
      "|   |   |   |--- DistanceFromHome <= 26.50\n",
      "|   |   |   |   |--- MonthlyIncome <= 48155.00\n",
      "|   |   |   |   |   |--- PercentSalaryHike <= 18.50\n",
      "|   |   |   |   |   |   |--- TotalWorkingYears <= 9.50\n",
      "|   |   |   |   |   |   |   |--- YearsWithCurrManager <= 1.50\n",
      "|   |   |   |   |   |   |   |   |--- class: 0\n",
      "|   |   |   |   |   |   |   |--- YearsWithCurrManager >  1.50\n",
      "|   |   |   |   |   |   |   |   |--- class: 0\n",
      "|   |   |   |   |   |   |--- TotalWorkingYears >  9.50\n",
      "|   |   |   |   |   |   |   |--- Age <= 28.50\n",
      "|   |   |   |   |   |   |   |   |--- class: 1\n",
      "|   |   |   |   |   |   |   |--- Age >  28.50\n",
      "|   |   |   |   |   |   |   |   |--- class: 0\n",
      "|   |   |   |   |   |--- PercentSalaryHike >  18.50\n",
      "|   |   |   |   |   |   |--- MonthlyIncome <= 20340.00\n",
      "|   |   |   |   |   |   |   |--- class: 1\n",
      "|   |   |   |   |   |   |--- MonthlyIncome >  20340.00\n",
      "|   |   |   |   |   |   |   |--- TotalWorkingYears <= 6.50\n",
      "|   |   |   |   |   |   |   |   |--- class: 0\n",
      "|   |   |   |   |   |   |   |--- TotalWorkingYears >  6.50\n",
      "|   |   |   |   |   |   |   |   |--- class: 0\n",
      "|   |   |   |   |--- MonthlyIncome >  48155.00\n",
      "|   |   |   |   |   |--- YearsAtCompany <= 3.50\n",
      "|   |   |   |   |   |   |--- DistanceFromHome <= 7.50\n",
      "|   |   |   |   |   |   |   |--- MonthlyIncome <= 48355.00\n",
      "|   |   |   |   |   |   |   |   |--- class: 1\n",
      "|   |   |   |   |   |   |   |--- MonthlyIncome >  48355.00\n",
      "|   |   |   |   |   |   |   |   |--- class: 0\n",
      "|   |   |   |   |   |   |--- DistanceFromHome >  7.50\n",
      "|   |   |   |   |   |   |   |--- MonthlyIncome <= 115880.00\n",
      "|   |   |   |   |   |   |   |   |--- class: 0\n",
      "|   |   |   |   |   |   |   |--- MonthlyIncome >  115880.00\n",
      "|   |   |   |   |   |   |   |   |--- class: 1\n",
      "|   |   |   |   |   |--- YearsAtCompany >  3.50\n",
      "|   |   |   |   |   |   |--- MonthlyIncome <= 49880.00\n",
      "|   |   |   |   |   |   |   |--- PercentSalaryHike <= 17.00\n",
      "|   |   |   |   |   |   |   |   |--- class: 1\n",
      "|   |   |   |   |   |   |   |--- PercentSalaryHike >  17.00\n",
      "|   |   |   |   |   |   |   |   |--- class: 0\n",
      "|   |   |   |   |   |   |--- MonthlyIncome >  49880.00\n",
      "|   |   |   |   |   |   |   |--- TotalWorkingYears <= 5.50\n",
      "|   |   |   |   |   |   |   |   |--- class: 0\n",
      "|   |   |   |   |   |   |   |--- TotalWorkingYears >  5.50\n",
      "|   |   |   |   |   |   |   |   |--- class: 0\n",
      "|   |   |   |--- DistanceFromHome >  26.50\n",
      "|   |   |   |   |--- TrainingTimesLastYear <= 1.50\n",
      "|   |   |   |   |   |--- class: 1\n",
      "|   |   |   |   |--- TrainingTimesLastYear >  1.50\n",
      "|   |   |   |   |   |--- MonthlyIncome <= 30330.00\n",
      "|   |   |   |   |   |   |--- YearsAtCompany <= 8.00\n",
      "|   |   |   |   |   |   |   |--- class: 1\n",
      "|   |   |   |   |   |   |--- YearsAtCompany >  8.00\n",
      "|   |   |   |   |   |   |   |--- class: 0\n",
      "|   |   |   |   |   |--- MonthlyIncome >  30330.00\n",
      "|   |   |   |   |   |   |--- class: 0\n",
      "|   |--- Age >  33.50\n",
      "|   |   |--- TotalWorkingYears <= 39.00\n",
      "|   |   |   |--- YearsWithCurrManager <= 0.50\n",
      "|   |   |   |   |--- TotalWorkingYears <= 3.50\n",
      "|   |   |   |   |   |--- MonthlyIncome <= 88375.00\n",
      "|   |   |   |   |   |   |--- Age <= 49.00\n",
      "|   |   |   |   |   |   |   |--- class: 0\n",
      "|   |   |   |   |   |   |--- Age >  49.00\n",
      "|   |   |   |   |   |   |   |--- class: 1\n",
      "|   |   |   |   |   |--- MonthlyIncome >  88375.00\n",
      "|   |   |   |   |   |   |--- class: 1\n",
      "|   |   |   |   |--- TotalWorkingYears >  3.50\n",
      "|   |   |   |   |   |--- MonthlyIncome <= 34145.00\n",
      "|   |   |   |   |   |   |--- YearsAtCompany <= 11.50\n",
      "|   |   |   |   |   |   |   |--- Age <= 55.00\n",
      "|   |   |   |   |   |   |   |   |--- class: 0\n",
      "|   |   |   |   |   |   |   |--- Age >  55.00\n",
      "|   |   |   |   |   |   |   |   |--- class: 0\n",
      "|   |   |   |   |   |   |--- YearsAtCompany >  11.50\n",
      "|   |   |   |   |   |   |   |--- class: 1\n",
      "|   |   |   |   |   |--- MonthlyIncome >  34145.00\n",
      "|   |   |   |   |   |   |--- MonthlyIncome <= 37540.00\n",
      "|   |   |   |   |   |   |   |--- TrainingTimesLastYear <= 2.50\n",
      "|   |   |   |   |   |   |   |   |--- class: 0\n",
      "|   |   |   |   |   |   |   |--- TrainingTimesLastYear >  2.50\n",
      "|   |   |   |   |   |   |   |   |--- class: 1\n",
      "|   |   |   |   |   |   |--- MonthlyIncome >  37540.00\n",
      "|   |   |   |   |   |   |   |--- TrainingTimesLastYear <= 1.50\n",
      "|   |   |   |   |   |   |   |   |--- class: 1\n",
      "|   |   |   |   |   |   |   |--- TrainingTimesLastYear >  1.50\n",
      "|   |   |   |   |   |   |   |   |--- class: 0\n",
      "|   |   |   |--- YearsWithCurrManager >  0.50\n",
      "|   |   |   |   |--- MonthlyIncome <= 10300.00\n",
      "|   |   |   |   |   |--- class: 1\n",
      "|   |   |   |   |--- MonthlyIncome >  10300.00\n",
      "|   |   |   |   |   |--- DistanceFromHome <= 24.50\n",
      "|   |   |   |   |   |   |--- DistanceFromHome <= 3.50\n",
      "|   |   |   |   |   |   |   |--- YearsAtCompany <= 1.50\n",
      "|   |   |   |   |   |   |   |   |--- class: 0\n",
      "|   |   |   |   |   |   |   |--- YearsAtCompany >  1.50\n",
      "|   |   |   |   |   |   |   |   |--- class: 0\n",
      "|   |   |   |   |   |   |--- DistanceFromHome >  3.50\n",
      "|   |   |   |   |   |   |   |--- MonthlyIncome <= 63480.00\n",
      "|   |   |   |   |   |   |   |   |--- class: 0\n",
      "|   |   |   |   |   |   |   |--- MonthlyIncome >  63480.00\n",
      "|   |   |   |   |   |   |   |   |--- class: 0\n",
      "|   |   |   |   |   |--- DistanceFromHome >  24.50\n",
      "|   |   |   |   |   |   |--- class: 0\n",
      "|   |   |--- TotalWorkingYears >  39.00\n",
      "|   |   |   |--- class: 1\n",
      "\n"
     ]
    }
   ],
   "source": [
    "from sklearn.tree import export_text\n",
    "feature=['DistanceFromHome','TotalWorkingYears','MonthlyIncome','Age','PercentSalaryHike'\n",
    "        ,'YearsAtCompany','YearsWithCurrManager','TrainingTimesLastYear']\n",
    "r=export_text(tree_model,feature_names=feature)\n",
    "print(r)"
   ]
  },
  {
   "cell_type": "code",
   "execution_count": null,
   "metadata": {},
   "outputs": [],
   "source": []
  }
 ],
 "metadata": {
  "kernelspec": {
   "display_name": "Python 3",
   "language": "python",
   "name": "python3"
  },
  "language_info": {
   "codemirror_mode": {
    "name": "ipython",
    "version": 3
   },
   "file_extension": ".py",
   "mimetype": "text/x-python",
   "name": "python",
   "nbconvert_exporter": "python",
   "pygments_lexer": "ipython3",
   "version": "3.7.6"
  }
 },
 "nbformat": 4,
 "nbformat_minor": 4
}
