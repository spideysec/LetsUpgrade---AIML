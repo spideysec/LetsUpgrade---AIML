{
 "cells": [
  {
   "cell_type": "markdown",
   "metadata": {},
   "source": [
    " # Q1"
   ]
  },
  {
   "cell_type": "code",
   "execution_count": 16,
   "metadata": {
    "colab": {
     "base_uri": "https://localhost:8080/",
     "height": 54
    },
    "colab_type": "code",
    "id": "QD7tgIZa0lFW",
    "outputId": "006a1bb9-039f-4f54-ca0c-a46ccd405d97"
   },
   "outputs": [
    {
     "name": "stdout",
     "output_type": "stream",
     "text": [
      "sahilphalle@gmail.com\n",
      "gmail "
     ]
    }
   ],
   "source": [
    "def comapany():\n",
    "  i=input()\n",
    "  x=i.index('@')\n",
    "  print(i[x+1:len(i)-4],end=' ')\n",
    "  \n",
    "comapany()"
   ]
  },
  {
   "cell_type": "markdown",
   "metadata": {},
   "source": [
    "# Q2"
   ]
  },
  {
   "cell_type": "code",
   "execution_count": null,
   "metadata": {
    "colab": {
     "base_uri": "https://localhost:8080/",
     "height": 54
    },
    "colab_type": "code",
    "id": "qlY905ASNmWm",
    "outputId": "09c944e0-87af-4a65-8652-3da6791cf3b5"
   },
   "outputs": [
    {
     "name": "stdout",
     "output_type": "stream",
     "text": [
      "enter data to sortwithout,hello,bag,world\n"
     ]
    },
    {
     "name": "stderr",
     "output_type": "stream",
     "text": [
      "Sorted data are  bag,hello,without,world\n"
     ]
    }
   ],
   "source": [
    "def sorting():\n",
    "  items=[x for x in input(\"enter data to sort\").split(',')]\n",
    "  items.sort()\n",
    "  print (\"Sorted data are \",','.join(items))\n",
    "sorting()"
   ]
  },
  {
   "cell_type": "markdown",
   "metadata": {},
   "source": [
    "# Q3"
   ]
  },
  {
   "cell_type": "code",
   "execution_count": 15,
   "metadata": {
    "colab": {
     "base_uri": "https://localhost:8080/",
     "height": 129
    },
    "colab_type": "code",
    "id": "y5Iq4JIZ-RBD",
    "outputId": "31024654-d98b-431f-8e2b-09ae3094fc82"
   },
   "outputs": [
    {
     "name": "stdout",
     "output_type": "stream",
     "text": [
      "{'banana', 'apple', 'cherry'}\n",
      "banana\n",
      "apple\n",
      "cherry\n",
      "Data saved to file successfully.\n",
      "True\n"
     ]
    }
   ],
   "source": [
    "import sys\n",
    "sampleSet = {\"apple\", \"banana\", \"cherry\"}\n",
    "print(sampleSet) \n",
    "sampleSet= {\"apple\", \"banana\", \"cherry\"}\n",
    "for x in sampleSet:\n",
    "    print(x)\n",
    "str1=\"sampleSet=\" + str(sampleSet) +\"\\n\"\n",
    "str2=\"print()\"+str(print) +\"\\n\"\n",
    "str3=\"sampleSet=\"+str(sampleSet)+\"\\n\"\n",
    "#str4=\"for x in sampleSet:\"+str(for)\n",
    "# str5=\"print(x)\"+str(   print(x))\n",
    "\n",
    "original_stdout = sys.stdout\n",
    "f=open(\"Set.ipynb\",'w')\n",
    "f.write(str1)\n",
    "f.write(str2)\n",
    "f.write(str3)\n",
    "# f.write(str4)\n",
    "# f.write(str5)\n",
    "\n",
    "f.close()\n",
    "print(\"Data saved to file successfully.\")\n",
    "print(f.closed)"
   ]
  },
  {
   "cell_type": "markdown",
   "metadata": {},
   "source": [
    "# Q4"
   ]
  },
  {
   "cell_type": "code",
   "execution_count": 1,
   "metadata": {
    "colab": {},
    "colab_type": "code",
    "id": "1exUNmLTKsoI"
   },
   "outputs": [
    {
     "name": "stdout",
     "output_type": "stream",
     "text": [
      "1 2 4 5 6 8\n",
      "3\n"
     ]
    }
   ],
   "source": [
    "def missNo():\n",
    "    num=list(map(int,input().split()))\n",
    "    #print(num)\n",
    "    \n",
    "    for i in range(1,len(num)+1):\n",
    "        if (i in num):\n",
    "            pass\n",
    "        else:\n",
    "            print(i)             \n",
    "missNo()\n",
    "  "
   ]
  },
  {
   "cell_type": "markdown",
   "metadata": {},
   "source": [
    "# Q5"
   ]
  },
  {
   "cell_type": "code",
   "execution_count": 7,
   "metadata": {},
   "outputs": [
    {
     "name": "stdout",
     "output_type": "stream",
     "text": [
      "1 2 2 3 4 5 6 6 7 7 8 9 10 10\n",
      "1 2 3 4 5 6 7 8 9 10\n"
     ]
    }
   ],
   "source": [
    "def list1():\n",
    "    num=list(map(int,input().split()))\n",
    "    a=set(num)\n",
    "    print(*a,sep=\" \")\n",
    "list1()"
   ]
  }
 ],
 "metadata": {
  "colab": {
   "collapsed_sections": [],
   "name": "Day6.ipynb",
   "provenance": []
  },
  "kernelspec": {
   "display_name": "Python 3",
   "language": "python",
   "name": "python3"
  },
  "language_info": {
   "codemirror_mode": {
    "name": "ipython",
    "version": 3
   },
   "file_extension": ".py",
   "mimetype": "text/x-python",
   "name": "python",
   "nbconvert_exporter": "python",
   "pygments_lexer": "ipython3",
   "version": "3.7.6"
  }
 },
 "nbformat": 4,
 "nbformat_minor": 1
}
